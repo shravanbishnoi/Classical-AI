{
 "cells": [
  {
   "cell_type": "markdown",
   "metadata": {},
   "source": [
    "Q. What is DFS algorithm?\n",
    "\n",
    " Depth First Search(DFS) algorithm is a recursive algorithm to traverse all nodes of a graph. It is based on exhaustive search of all the nodes by taking any node as starting node OR the specified one if so and starts moving forward by choosing any child node if possible and then after hitting the leaf node(deepest/innermost) it uses the back tracking principle and traverse back to parent node look for other not visited child node of the parent and move forward if possible otherwise again backtrack to upper level and recurse in the same manner. It uses a stack data structure and performs two stages, first visited vertices are pushed into the stack, and second if there are no vertices then visited vertices are popped. To visit the next node, pop the top node from the stack and push all of its adjacent nodes into the stack.\n"
   ]
  },
  {
   "cell_type": "markdown",
   "metadata": {},
   "source": [
    "Here is a example of a graph to better understand the DFS algorithm."
   ]
  },
  {
   "cell_type": "markdown",
   "metadata": {},
   "source": [
    "<center><img src=\"Germany_map.jpg\" width=400>"
   ]
  },
  {
   "cell_type": "markdown",
   "metadata": {},
   "source": [
    "Applications of DFS:\n",
    "\n",
    "1. Natural Language Processing\n",
    "2. Image Processing\n",
    "3. Biology and Genetics\n",
    "4. Software Testing\n",
    "5. Network Routing"
   ]
  },
  {
   "cell_type": "code",
   "execution_count": 2,
   "metadata": {},
   "outputs": [
    {
     "data": {
      "text/plain": [
       "{'Frankfurt': ['Mannhein', 'Wurzburg', 'Kassel'],\n",
       " 'Mannhein': ['Frankfurt', 'Karlsruhe'],\n",
       " 'Wurzburg': ['Frankfurt', 'Numberg', 'Erfurt'],\n",
       " 'Kassel': ['Frankfurt', 'Munchen'],\n",
       " 'Karlsruhe': ['Mannhein', 'Ausburg'],\n",
       " 'Numberg': ['Wurzburg', 'Stuttgart'],\n",
       " 'Erfurt': ['Wurzburg'],\n",
       " 'Munchen': ['Kassel'],\n",
       " 'Ausburg': ['Karlsruhe'],\n",
       " 'Stuttgart': ['Numberg']}"
      ]
     },
     "execution_count": 2,
     "metadata": {},
     "output_type": "execute_result"
    }
   ],
   "source": [
    "# given Adjecency list of a graph\n",
    "graph = {\"Frankfurt\": [\"Mannhein\", \"Wurzburg\", \"Kassel\"], \"Mannhein\": [\"Frankfurt\", \"Karlsruhe\"], \"Wurzburg\": [\"Frankfurt\", \"Numberg\", \"Erfurt\"], \"Kassel\": [\"Frankfurt\", \"Munchen\"], \"Karlsruhe\": [\"Mannhein\", \"Ausburg\"], \"Numberg\": [\"Wurzburg\", \"Stuttgart\"], \"Erfurt\": [\"Wurzburg\"], \"Munchen\": [\"Kassel\"], \"Ausburg\": [\"Karlsruhe\"], \"Stuttgart\": [\"Numberg\"]}\n",
    "graph"
   ]
  },
  {
   "cell_type": "markdown",
   "metadata": {},
   "source": [
    "DFS Algorithm has 3 components:"
   ]
  },
  {
   "cell_type": "markdown",
   "metadata": {},
   "source": [
    ">1. Graph Traversal, input is only node1"
   ]
  },
  {
   "cell_type": "code",
   "execution_count": 10,
   "metadata": {},
   "outputs": [
    {
     "data": {
      "text/plain": [
       "['Frankfurt',\n",
       " 'Mannhein',\n",
       " 'Karlsruhe',\n",
       " 'Ausburg',\n",
       " 'Wurzburg',\n",
       " 'Numberg',\n",
       " 'Stuttgart',\n",
       " 'Erfurt',\n",
       " 'Kassel',\n",
       " 'Munchen']"
      ]
     },
     "execution_count": 10,
     "metadata": {},
     "output_type": "execute_result"
    }
   ],
   "source": [
    "# DFS Q.1\n",
    "\n",
    "visited_list = [] # keeps a track of nodes that have been visited\n",
    "def DFS(node1):\n",
    "    \"\"\"\n",
    "    Complete DFS Traversal of the above graph starting from node1\n",
    "    \n",
    "    Parameter node1: is the starting node of a graph\n",
    "    Precondition: node1 is a valid node.\n",
    "    \"\"\"\n",
    "    global graph, visited_list # accessing global variables\n",
    "    if node1 not in visited_list: # should not visit any node twice\n",
    "        # print(node1)\n",
    "        visited_list.append(node1)\n",
    "        for i in graph[node1]:\n",
    "            DFS(i) # recursive calls to DFS\n",
    "DFS('Frankfurt')\n",
    "visited_list"
   ]
  },
  {
   "cell_type": "markdown",
   "metadata": {},
   "source": [
    ">2. Input is node 1 and node 2, Stop  Traversing when node 2 is found"
   ]
  },
  {
   "cell_type": "code",
   "execution_count": 16,
   "metadata": {},
   "outputs": [
    {
     "data": {
      "text/plain": [
       "['Kassel',\n",
       " 'Frankfurt',\n",
       " 'Mannhein',\n",
       " 'Karlsruhe',\n",
       " 'Ausburg',\n",
       " 'Wurzburg',\n",
       " 'Numberg',\n",
       " 'Stuttgart',\n",
       " 'Erfurt']"
      ]
     },
     "execution_count": 16,
     "metadata": {},
     "output_type": "execute_result"
    }
   ],
   "source": [
    "# DFS Q.2\n",
    "\n",
    "visited_list2 = [] # keeps a track of nodes that have been visited\n",
    "var = True\n",
    "def DFS2(node1, node2):\n",
    "    \"\"\"\n",
    "    DFS Traversal of the above graph which starts from node1 and stops at node2\n",
    "    \n",
    "    Parameter node1: is the starting node of a graph\n",
    "    Precondition: node1 is a valid node.\n",
    "\n",
    "    Parameter node2: is the ending node of a graph\n",
    "    Precondition: node2 is a valid node.\n",
    "    \"\"\"\n",
    "    global var, graph, visited_list2 # accessing global variables\n",
    "    if var:\n",
    "        # stops recursive calls when node1 matches node2 by setting var=False\n",
    "        if node1==node2:\n",
    "            # print(node1)\n",
    "            visited_list2.append(node1)\n",
    "            var = False\n",
    "            return None\n",
    "        elif node1 not in visited_list2: # should not visit any node twice\n",
    "            visited_list2.append(node1)\n",
    "            for i in graph[node1]:\n",
    "                DFS2(i, node2) # recursive calls to DFS2\n",
    "    else:\n",
    "        return None\n",
    "DFS2('Kassel', 'Erfurt')\n",
    "visited_list2"
   ]
  },
  {
   "cell_type": "markdown",
   "metadata": {},
   "source": [
    ">3. Create a list which stores the path from node 1 to node 2"
   ]
  },
  {
   "cell_type": "code",
   "execution_count": 28,
   "metadata": {},
   "outputs": [
    {
     "data": {
      "text/plain": [
       "['Frankfurt', 'Mannhein', 'Karlsruhe', 'Ausburg']"
      ]
     },
     "execution_count": 28,
     "metadata": {},
     "output_type": "execute_result"
    }
   ],
   "source": [
    "# DFS Q.3\n",
    "\n",
    "visited_list3 = [] # keeps a track of nodes that have been visited\n",
    "stack = [] # keeps path\n",
    "var3 = True\n",
    "def DFS3(node1, node2):\n",
    "    \"\"\"\n",
    "    Creating a list which stores the path from node1 to node2 using \n",
    "    DFS Traversal of the above graph which starts from node1 and stops at node2\n",
    "    \n",
    "    Parameter node1: is the starting node of a graph\n",
    "    Precondition: node1 is a valid node.\n",
    "\n",
    "    Parameter node2: is the ending node of a graph\n",
    "    Precondition: node2 is a valid node.\n",
    "    \"\"\"\n",
    "    global var3, graph, visited_list3, stack # accessing global variables\n",
    "    if var3:\n",
    "        # stops recursive calls when node1 matches node2 by setting var=False\n",
    "        if node1==node2:\n",
    "            stack.append(node1)\n",
    "            var3 = False\n",
    "            return stack\n",
    "        elif node1 not in visited_list3: # should not visit any node twice\n",
    "            visited_list3.append(node1)\n",
    "            stack.append(node1)\n",
    "            for i in graph[node1]:\n",
    "                if i not in visited_list3:\n",
    "                    temp = DFS3(i, node2) # recursive calls to DFS3\n",
    "                    if temp==None:\n",
    "                        stack.pop()\n",
    "                    else:\n",
    "                        return stack\n",
    "    else:\n",
    "        return \"\"\n",
    "DFS3('Frankfurt', 'Ausburg')\n",
    "stack"
   ]
  },
  {
   "cell_type": "code",
   "execution_count": null,
   "metadata": {},
   "outputs": [],
   "source": []
  }
 ],
 "metadata": {
  "kernelspec": {
   "display_name": "Python 3",
   "language": "python",
   "name": "python3"
  },
  "language_info": {
   "codemirror_mode": {
    "name": "ipython",
    "version": 3
   },
   "file_extension": ".py",
   "mimetype": "text/x-python",
   "name": "python",
   "nbconvert_exporter": "python",
   "pygments_lexer": "ipython3",
   "version": "3.10.8"
  },
  "orig_nbformat": 4
 },
 "nbformat": 4,
 "nbformat_minor": 2
}
