{
 "cells": [
  {
   "cell_type": "markdown",
   "metadata": {},
   "source": [
    "Breadth First Search(BFS):\n",
    "\n",
    "Breadth-First Search (BFS) is a graph traversal algorithm used to explore all the vertices of a graph or tree in a breadthward motion. It starts at a specified vertex (or node) called the \"root\" and systematically explores all the neighboring nodes at the current depth level before moving on to nodes at the next depth level. BFS is used to search for a specific node or to visit all nodes in a connected component or graph. It ensures that nodes are visited in increasing order of their distance from the root node."
   ]
  },
  {
   "cell_type": "markdown",
   "metadata": {},
   "source": [
    "Applications of BFS:\n",
    "\n",
    "1. Shortest Path and Navigation\n",
    "2. Social Networks\n",
    "3. Network Broadcasting\n",
    "4. Puzzle Solving\n",
    "5. Bipartite Graph Detection"
   ]
  },
  {
   "cell_type": "markdown",
   "metadata": {},
   "source": [
    "Here is a example of a graph to better understand the BFS algorithm."
   ]
  },
  {
   "cell_type": "markdown",
   "metadata": {},
   "source": [
    "<center><img src=\"Germany_map.jpg\" width=400>"
   ]
  },
  {
   "cell_type": "code",
   "execution_count": 1,
   "metadata": {},
   "outputs": [
    {
     "data": {
      "text/plain": [
       "{'Frankfurt': ['Mannhein', 'Wurzburg', 'Kassel'],\n",
       " 'Mannhein': ['Frankfurt', 'Karlsruhe'],\n",
       " 'Wurzburg': ['Frankfurt', 'Numberg', 'Erfurt'],\n",
       " 'Kassel': ['Frankfurt', 'Munchen'],\n",
       " 'Karlsruhe': ['Mannhein', 'Ausburg'],\n",
       " 'Numberg': ['Wurzburg', 'Stuttgart'],\n",
       " 'Erfurt': ['Wurzburg'],\n",
       " 'Munchen': ['Kassel'],\n",
       " 'Ausburg': ['Karlsruhe'],\n",
       " 'Stuttgart': ['Numberg']}"
      ]
     },
     "execution_count": 1,
     "metadata": {},
     "output_type": "execute_result"
    }
   ],
   "source": [
    "# given Adjecency list of a graph\n",
    "graph = {\"Frankfurt\": [\"Mannhein\", \"Wurzburg\", \"Kassel\"], \"Mannhein\": [\"Frankfurt\", \"Karlsruhe\"], \"Wurzburg\": [\"Frankfurt\", \"Numberg\", \"Erfurt\"], \"Kassel\": [\"Frankfurt\", \"Munchen\"], \"Karlsruhe\": [\"Mannhein\", \"Ausburg\"], \"Numberg\": [\"Wurzburg\", \"Stuttgart\"], \"Erfurt\": [\"Wurzburg\"], \"Munchen\": [\"Kassel\"], \"Ausburg\": [\"Karlsruhe\"], \"Stuttgart\": [\"Numberg\"]}\n",
    "graph"
   ]
  },
  {
   "cell_type": "markdown",
   "metadata": {},
   "source": [
    "BFS Algorithm has 3 components:"
   ]
  },
  {
   "cell_type": "markdown",
   "metadata": {},
   "source": [
    "1. Graph Traversal, input is only node 1"
   ]
  },
  {
   "cell_type": "code",
   "execution_count": 2,
   "metadata": {},
   "outputs": [
    {
     "data": {
      "text/plain": [
       "['Frankfurt',\n",
       " 'Mannhein',\n",
       " 'Wurzburg',\n",
       " 'Kassel',\n",
       " 'Karlsruhe',\n",
       " 'Numberg',\n",
       " 'Erfurt',\n",
       " 'Munchen',\n",
       " 'Ausburg',\n",
       " 'Stuttgart']"
      ]
     },
     "execution_count": 2,
     "metadata": {},
     "output_type": "execute_result"
    }
   ],
   "source": [
    "# BFS Q.1\n",
    "\n",
    "visited_list = [] # keeps a track of nodes that have been visited\n",
    "queue_list = [] # keeps track of nodes in queue\n",
    "def BFS(node1):\n",
    "    \"\"\"\n",
    "    Complete BFS Traversal of the above graph starting from node1\n",
    "    \n",
    "    Parameter node1: is the starting node of a graph\n",
    "    Precondition: node1 is a valid node.\n",
    "    \"\"\"\n",
    "    global graph, visited_list, queue_list # accessing global variables\n",
    "    if node1 not in visited_list: # should not visit any node twice\n",
    "        visited_list.append(node1)\n",
    "        for i in graph[node1]:\n",
    "            queue_list.append(i)\n",
    "        j = 0\n",
    "        while j<len(queue_list):\n",
    "            if queue_list[j] not in visited_list:\n",
    "                BFS(queue_list[j]) # recursive calls to BFS\n",
    "                j += 1\n",
    "            else:\n",
    "                queue_list.pop(0)\n",
    "BFS('Frankfurt')\n",
    "visited_list"
   ]
  },
  {
   "cell_type": "markdown",
   "metadata": {},
   "source": [
    "2. Input is node 1 and node 2, Stop Traversing when node 2 is found\n"
   ]
  },
  {
   "cell_type": "code",
   "execution_count": 3,
   "metadata": {},
   "outputs": [
    {
     "data": {
      "text/plain": [
       "['Frankfurt', 'Mannhein', 'Wurzburg', 'Kassel', 'Karlsruhe']"
      ]
     },
     "execution_count": 3,
     "metadata": {},
     "output_type": "execute_result"
    }
   ],
   "source": [
    "# BFS Q.2\n",
    "\n",
    "visited_list2 = [] # keeps a track of nodes that have been visited\n",
    "queue_list2 = [] # keeps track of nodes in queue\n",
    "var = True\n",
    "def BFS2(node1, node2):\n",
    "    \"\"\"\n",
    "    BFS Traversal of the above graph which starts from node1 and stops at node2\n",
    "    \n",
    "    Parameter node1: is the starting node of a graph\n",
    "    Precondition: node1 is a valid node.\n",
    "\n",
    "    Parameter node2: is the ending node of a graph\n",
    "    Precondition: node2 is a valid node.\n",
    "    \"\"\"\n",
    "    global graph, visited_list2, queue_list2, var # accessing global variables\n",
    "    if var:\n",
    "        # stops recursive calls when node1 matches node2 by setting var=False\n",
    "        if node1==node2:\n",
    "            # print(node1)\n",
    "            var = False\n",
    "            return None\n",
    "        elif node1 not in visited_list2: # should not visit any node twice\n",
    "            visited_list2.append(node1)\n",
    "            for i in graph[node1]:\n",
    "                queue_list2.append(i)\n",
    "\n",
    "            j = 0\n",
    "            while j<len(queue_list2):\n",
    "                if queue_list2[j] not in visited_list2:\n",
    "                    BFS2(queue_list2[j], node2) # recursive calls to BFS2\n",
    "                    j += 1\n",
    "                else:\n",
    "                    queue_list2.pop(0)\n",
    "    else:\n",
    "        return None\n",
    "BFS2('Frankfurt', 'Numberg')\n",
    "visited_list2"
   ]
  },
  {
   "cell_type": "markdown",
   "metadata": {},
   "source": [
    "3. Create a list which stores the path from node 1 to node 2"
   ]
  },
  {
   "cell_type": "code",
   "execution_count": 7,
   "metadata": {},
   "outputs": [
    {
     "name": "stdout",
     "output_type": "stream",
     "text": [
      "[['Frankfurt', 'Mannhein'], ['Frankfurt', 'Wurzburg'], ['Frankfurt', 'Kassel']]\n",
      "[['Frankfurt', 'Mannhein', 'Karlsruhe'], ['Frankfurt', 'Wurzburg'], ['Frankfurt', 'Kassel']]\n",
      "[['Frankfurt', 'Mannhein', 'Karlsruhe'], ['Frankfurt', 'Wurzburg', 'Numberg'], ['Frankfurt', 'Kassel'], ['Frankfurt', 'Wurzburg', 'Erfurt']]\n",
      "[['Frankfurt', 'Mannhein', 'Karlsruhe'], ['Frankfurt', 'Wurzburg', 'Numberg'], ['Frankfurt', 'Kassel', 'Munchen'], ['Frankfurt', 'Wurzburg', 'Erfurt']]\n",
      "[['Frankfurt', 'Mannhein', 'Karlsruhe', 'Ausburg'], ['Frankfurt', 'Wurzburg', 'Numberg'], ['Frankfurt', 'Kassel', 'Munchen'], ['Frankfurt', 'Wurzburg', 'Erfurt']]\n",
      "[['Frankfurt', 'Mannhein', 'Karlsruhe', 'Ausburg'], ['Frankfurt', 'Wurzburg', 'Numberg', 'Stuttgart'], ['Frankfurt', 'Kassel', 'Munchen'], ['Frankfurt', 'Wurzburg', 'Erfurt']]\n",
      "[['Frankfurt', 'Mannhein', 'Karlsruhe', 'Ausburg'], ['Frankfurt', 'Wurzburg', 'Numberg', 'Stuttgart'], ['Frankfurt', 'Kassel', 'Munchen'], ['Frankfurt', 'Wurzburg', 'Erfurt']]\n",
      "[['Frankfurt', 'Mannhein', 'Karlsruhe', 'Ausburg'], ['Frankfurt', 'Wurzburg', 'Numberg', 'Stuttgart'], ['Frankfurt', 'Kassel', 'Munchen'], ['Frankfurt', 'Wurzburg', 'Erfurt']]\n"
     ]
    },
    {
     "data": {
      "text/plain": [
       "['Frankfurt', 'Mannhein', 'Karlsruhe', 'Ausburg']"
      ]
     },
     "execution_count": 7,
     "metadata": {},
     "output_type": "execute_result"
    }
   ],
   "source": [
    "# BFS Q.3\n",
    "\n",
    "visited_list3 = [] # keeps a track of nodes that have been visited\n",
    "all_lists = []\n",
    "queue_list3 = []\n",
    "var = True\n",
    "result = ''\n",
    "first = True\n",
    "def BFS3(node1, node2):\n",
    "    \"\"\"\n",
    "    Creating a list which stores the path from node1 to node2 using \n",
    "    BFS Traversal of the above graph which starts from node1 and stops at node2\n",
    "    \n",
    "    Parameter node1: is the starting node of a graph\n",
    "    Precondition: node1 is a valid node.\n",
    "\n",
    "    Parameter node2: is the ending node of a graph\n",
    "    Precondition: node2 is a valid node.\n",
    "    \"\"\"\n",
    "    global graph, visited_list3, all_lists, var, result, queue_list3, first # accessing global variables\n",
    "    if var:\n",
    "        # stops recursive calls when node1 matches node2 by setting var=False\n",
    "        if node1==node2:\n",
    "            # print(all_lists)\n",
    "            for i in range(len(all_lists)):\n",
    "                if all_lists[i][-1]==node1:\n",
    "                    result = all_lists[i]\n",
    "            var = False\n",
    "            # return None\n",
    "        elif node1 not in visited_list3: # should not visit any node twice\n",
    "            visited_list3.append(node1)\n",
    "            length = len(graph[node1])\n",
    "            if first:\n",
    "                for i in graph[node1]:\n",
    "                    temp_lst = []\n",
    "                    if node1 not in temp_lst:\n",
    "                        temp_lst.append(node1)\n",
    "                    temp_lst.append(i)\n",
    "                    all_lists.append(temp_lst)\n",
    "                    queue_list3.append(i)\n",
    "                first = False\n",
    "            else:\n",
    "                if length==2:\n",
    "                    for i in range(len(all_lists)):\n",
    "                        if all_lists[i][-1]==node1:\n",
    "                            current_path = all_lists[i]\n",
    "                            for x in graph[node1]:\n",
    "                                if x not in current_path:\n",
    "                                    queue_list3.append(x)\n",
    "                                    all_lists[i].append(x)\n",
    "                else:\n",
    "                    path_var = True\n",
    "                    for i in range(len(all_lists)):\n",
    "                        if all_lists[i][-1]==node1:     \n",
    "                            current_path = all_lists[i][:]\n",
    "                            for z in graph[node1]:\n",
    "                                if z not in current_path:\n",
    "                                    queue_list3.append(z)\n",
    "                                    if path_var:\n",
    "                                        all_lists[i].append(z)\n",
    "                                        path_var = False\n",
    "                                    else:\n",
    "                                        temp_cur_path=current_path\n",
    "                                        temp_cur_path.append(z)\n",
    "                                        all_lists.append(temp_cur_path)\n",
    "            # print((queue_list3))\n",
    "            print(all_lists)\n",
    "            j = 0\n",
    "            while j<len(queue_list3):\n",
    "                if queue_list3[j] not in visited_list3:\n",
    "                    BFS3(queue_list3[j], node2) # recursive calls to BFS2\n",
    "                    j += 1\n",
    "                else:\n",
    "                    queue_list3.pop(0)\n",
    "BFS3('Frankfurt', 'Ausburg')\n",
    "result"
   ]
  },
  {
   "cell_type": "code",
   "execution_count": null,
   "metadata": {},
   "outputs": [],
   "source": []
  },
  {
   "cell_type": "code",
   "execution_count": null,
   "metadata": {},
   "outputs": [],
   "source": []
  }
 ],
 "metadata": {
  "kernelspec": {
   "display_name": "Python 3",
   "language": "python",
   "name": "python3"
  },
  "language_info": {
   "codemirror_mode": {
    "name": "ipython",
    "version": 3
   },
   "file_extension": ".py",
   "mimetype": "text/x-python",
   "name": "python",
   "nbconvert_exporter": "python",
   "pygments_lexer": "ipython3",
   "version": "3.10.8"
  },
  "orig_nbformat": 4
 },
 "nbformat": 4,
 "nbformat_minor": 2
}
