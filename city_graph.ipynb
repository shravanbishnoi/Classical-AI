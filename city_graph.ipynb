{
 "cells": [
  {
   "cell_type": "code",
   "execution_count": 1,
   "metadata": {},
   "outputs": [
    {
     "data": {
      "text/plain": [
       "{'Frankfurt': ['Mannhein', 'Wurzburg', 'Kassel'],\n",
       " 'Mannhein': ['Frankfurt', 'Karlsruhe'],\n",
       " 'Wurzburg': ['Frankfurt', 'Numberg', 'Erfurt'],\n",
       " 'Kassel': ['Frankfurt', 'Munchen'],\n",
       " 'Karlsruhe': ['Mannhein', 'Ausburg'],\n",
       " 'Numberg': ['Wurzburg', 'Stuttgart'],\n",
       " 'Erfurt': ['Wurzburg'],\n",
       " 'Munchen': ['Kassel'],\n",
       " 'Ausburg': ['Karlsruhe'],\n",
       " 'Stuttgart': ['Numberg']}"
      ]
     },
     "execution_count": 1,
     "metadata": {},
     "output_type": "execute_result"
    }
   ],
   "source": [
    "# Adjecency list\n",
    "graph = {\"Frankfurt\": [\"Mannhein\", \"Wurzburg\", \"Kassel\"], \"Mannhein\": [\"Frankfurt\", \"Karlsruhe\"], \"Wurzburg\": [\"Frankfurt\", \"Numberg\", \"Erfurt\"], \"Kassel\": [\"Frankfurt\", \"Munchen\"], \"Karlsruhe\": [\"Mannhein\", \"Ausburg\"], \"Numberg\": [\"Wurzburg\", \"Stuttgart\"], \"Erfurt\": [\"Wurzburg\"], \"Munchen\": [\"Kassel\"], \"Ausburg\": [\"Karlsruhe\"], \"Stuttgart\": [\"Numberg\"]}\n",
    "graph"
   ]
  },
  {
   "cell_type": "markdown",
   "metadata": {},
   "source": [
    "DFS Algo has 3 components:\n",
    "1. Graph Traversal, input is only node 1\n",
    "2. Input is node 1 and node 2, Stop  Traversing when node 2 is found\n",
    "3. Create a list which stores the path from node 1 to node 2"
   ]
  },
  {
   "cell_type": "code",
   "execution_count": 2,
   "metadata": {},
   "outputs": [
    {
     "name": "stdout",
     "output_type": "stream",
     "text": [
      "Frankfurt\n",
      "Mannhein\n",
      "Karlsruhe\n",
      "Ausburg\n",
      "Wurzburg\n",
      "Numberg\n",
      "Stuttgart\n",
      "Erfurt\n",
      "Kassel\n",
      "Munchen\n"
     ]
    }
   ],
   "source": [
    "# DFS Q.1\n",
    "visited_list = []\n",
    "def DFS(node1):\n",
    "    global graph, visited_list\n",
    "    if node1 not in visited_list:\n",
    "        print(node1)\n",
    "        visited_list.append(node1)\n",
    "        for i in graph[node1]:\n",
    "            DFS(i)\n",
    "DFS('Frankfurt')"
   ]
  },
  {
   "cell_type": "code",
   "execution_count": 59,
   "metadata": {},
   "outputs": [
    {
     "name": "stdout",
     "output_type": "stream",
     "text": [
      "Frankfurt\n",
      "Mannhein\n",
      "Karlsruhe\n",
      "Ausburg\n"
     ]
    }
   ],
   "source": [
    "# DFS Q.2\n",
    "visited_list2 = []\n",
    "var = True\n",
    "def DFS2(node1, node2):\n",
    "    global var, graph, visited_list2\n",
    "    if var:\n",
    "        if node1==node2:\n",
    "            print(node1)\n",
    "            var = False\n",
    "            return None\n",
    "        elif node1 not in visited_list2:\n",
    "            print(node1)\n",
    "            visited_list2.append(node1)\n",
    "            for i in graph[node1]:\n",
    "                DFS2(i, node2)\n",
    "    else:\n",
    "        return None\n",
    "DFS2('Frankfurt', 'Ausburg')"
   ]
  },
  {
   "cell_type": "code",
   "execution_count": 110,
   "metadata": {},
   "outputs": [
    {
     "name": "stdout",
     "output_type": "stream",
     "text": [
      "['Frankfurt', 'Mannhein']\n",
      "['Frankfurt']\n",
      "['Frankfurt', 'Karlsruhe']\n",
      "['Frankfurt']\n",
      "['Frankfurt', 'Ausburg']\n",
      "['Frankfurt']\n",
      "['Frankfurt', 'Wurzburg']\n",
      "['Frankfurt']\n",
      "['Frankfurt', 'Numberg']\n",
      "['Frankfurt']\n",
      "['Frankfurt', 'Stuttgart']\n",
      "['Frankfurt']\n",
      "['Frankfurt', 'Erfurt']\n",
      "['Frankfurt']\n",
      "['Frankfurt']\n"
     ]
    }
   ],
   "source": [
    "# DFS Q.3\n",
    "visited_list3 = []\n",
    "stack = []\n",
    "var = True\n",
    "def DFS3(node1, node2):\n",
    "    global var, graph, visited_list3, stack\n",
    "    if var:\n",
    "        if node1==node2:\n",
    "            print(stack)\n",
    "            var = False\n",
    "            return None\n",
    "        elif node1 not in visited_list3:\n",
    "            print(node1)\n",
    "            visited_list3.append(node1)\n",
    "            stack.append(node1)\n",
    "            for i in graph[node1]:\n",
    "                DFS3(i, node2)\n",
    "        elif node1 in visited_list3:\n",
    "            print(stack)\n",
    "            stack.pop()\n",
    "            print(stack)\n",
    "    else:\n",
    "        return None\n",
    "DFS3('Frankfurt', 'Kassel')\n",
    "# stack"
   ]
  },
  {
   "cell_type": "code",
   "execution_count": 125,
   "metadata": {},
   "outputs": [
    {
     "name": "stdout",
     "output_type": "stream",
     "text": [
      "Frankfurt\n",
      "Mannhein\n",
      "Wurzburg\n",
      "Kassel\n",
      "Mannhein\n",
      "Frankfurt\n",
      "Karlsruhe\n",
      "Wurzburg\n",
      "Frankfurt\n",
      "Numberg\n",
      "Erfurt\n",
      "Kassel\n",
      "Frankfurt\n",
      "Munchen\n",
      "Karlsruhe\n",
      "Mannhein\n",
      "Ausburg\n",
      "Numberg\n",
      "Wurzburg\n",
      "Stuttgart\n",
      "Erfurt\n",
      "Wurzburg\n",
      "Munchen\n",
      "Kassel\n",
      "Ausburg\n",
      "Karlsruhe\n",
      "Stuttgart\n",
      "Numberg\n",
      "['Frankfurt', 'Mannhein', 'Wurzburg', 'Kassel', 'Karlsruhe', 'Numberg', 'Erfurt', 'Munchen', 'Ausburg', 'Stuttgart']\n"
     ]
    }
   ],
   "source": [
    "# BFS Q.1\n",
    "visited_list = []\n",
    "queue_list = []\n",
    "def BFS(node1):\n",
    "    global graph, visited_list, queue_list\n",
    "    if node1 not in visited_list:\n",
    "        print(node1)\n",
    "        visited_list.append(node1)\n",
    "        for i in graph[node1]:\n",
    "            print(i)\n",
    "            queue_list.append(i)\n",
    "\n",
    "        j = 0\n",
    "        while j<len(queue_list):\n",
    "            if queue_list[j] not in visited_list:\n",
    "                BFS(queue_list[j])\n",
    "                j += 1\n",
    "            else:\n",
    "                queue_list.pop(0)\n",
    "BFS('Frankfurt')\n",
    "print(visited_list)"
   ]
  },
  {
   "cell_type": "code",
   "execution_count": 128,
   "metadata": {},
   "outputs": [
    {
     "name": "stdout",
     "output_type": "stream",
     "text": [
      "Frankfurt\n",
      "Mannhein\n",
      "Wurzburg\n",
      "Kassel\n",
      "Mannhein\n",
      "Frankfurt\n",
      "Karlsruhe\n",
      "Wurzburg\n",
      "Frankfurt\n",
      "Numberg\n",
      "Erfurt\n",
      "Kassel\n",
      "Frankfurt\n",
      "Munchen\n",
      "Karlsruhe\n",
      "Mannhein\n",
      "Ausburg\n",
      "Numberg\n",
      "['Frankfurt', 'Mannhein', 'Wurzburg', 'Kassel', 'Karlsruhe']\n"
     ]
    }
   ],
   "source": [
    "# BFS Q.2\n",
    "visited_list2 = []\n",
    "queue_list2 = []\n",
    "var = True\n",
    "def BFS2(node1, node2):\n",
    "    global graph, visited_list2, queue_list2, var\n",
    "    if var:\n",
    "        if node1==node2:\n",
    "            print(node1)\n",
    "            var = False\n",
    "            return None\n",
    "        elif node1 not in visited_list2:\n",
    "            print(node1)\n",
    "            visited_list2.append(node1)\n",
    "            for i in graph[node1]:\n",
    "                print(i)\n",
    "                queue_list2.append(i)\n",
    "\n",
    "            j = 0\n",
    "            while j<len(queue_list2):\n",
    "                if queue_list2[j] not in visited_list2:\n",
    "                    BFS2(queue_list2[j], node2)\n",
    "                    j += 1\n",
    "                else:\n",
    "                    queue_list2.pop(0)\n",
    "    else:\n",
    "        return None\n",
    "BFS2('Frankfurt', 'Numberg')\n",
    "print(visited_list2)"
   ]
  },
  {
   "cell_type": "code",
   "execution_count": null,
   "metadata": {},
   "outputs": [],
   "source": [
    "# BFS Q.3\n"
   ]
  }
 ],
 "metadata": {
  "kernelspec": {
   "display_name": "Python 3",
   "language": "python",
   "name": "python3"
  },
  "language_info": {
   "codemirror_mode": {
    "name": "ipython",
    "version": 3
   },
   "file_extension": ".py",
   "mimetype": "text/x-python",
   "name": "python",
   "nbconvert_exporter": "python",
   "pygments_lexer": "ipython3",
   "version": "3.10.8"
  },
  "orig_nbformat": 4
 },
 "nbformat": 4,
 "nbformat_minor": 2
}
